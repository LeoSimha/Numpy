{
 "cells": [
  {
   "cell_type": "markdown",
   "metadata": {},
   "source": [
    "Numpy Crash Course"
   ]
  },
  {
   "cell_type": "code",
   "execution_count": 1,
   "metadata": {},
   "outputs": [
    {
     "data": {
      "text/plain": [
       "'1.26.4'"
      ]
     },
     "execution_count": 1,
     "metadata": {},
     "output_type": "execute_result"
    }
   ],
   "source": [
    "import numpy as np\n",
    "np.__version__"
   ]
  },
  {
   "cell_type": "markdown",
   "metadata": {},
   "source": [
    "Creating Arrays"
   ]
  },
  {
   "cell_type": "code",
   "execution_count": 3,
   "metadata": {},
   "outputs": [
    {
     "data": {
      "text/plain": [
       "[0, 1, 2, 3, 4, 5, 6, 7]"
      ]
     },
     "execution_count": 3,
     "metadata": {},
     "output_type": "execute_result"
    }
   ],
   "source": [
    "list = [0,1,2,3,4,5,6,7]\n",
    "list"
   ]
  },
  {
   "cell_type": "code",
   "execution_count": 4,
   "metadata": {},
   "outputs": [
    {
     "data": {
      "text/plain": [
       "list"
      ]
     },
     "execution_count": 4,
     "metadata": {},
     "output_type": "execute_result"
    }
   ],
   "source": [
    "type(list)"
   ]
  },
  {
   "cell_type": "code",
   "execution_count": 5,
   "metadata": {},
   "outputs": [
    {
     "data": {
      "text/plain": [
       "array([0, 1, 2, 3, 4, 5, 6, 7])"
      ]
     },
     "execution_count": 5,
     "metadata": {},
     "output_type": "execute_result"
    }
   ],
   "source": [
    "arr = np.array(list)\n",
    "arr"
   ]
  },
  {
   "cell_type": "code",
   "execution_count": 6,
   "metadata": {},
   "outputs": [
    {
     "data": {
      "text/plain": [
       "numpy.ndarray"
      ]
     },
     "execution_count": 6,
     "metadata": {},
     "output_type": "execute_result"
    }
   ],
   "source": [
    "type(arr)\n",
    "# Both are Different"
   ]
  },
  {
   "cell_type": "code",
   "execution_count": 7,
   "metadata": {},
   "outputs": [
    {
     "data": {
      "text/plain": [
       "array([0, 1, 2, 3, 4])"
      ]
     },
     "execution_count": 7,
     "metadata": {},
     "output_type": "execute_result"
    }
   ],
   "source": [
    "np.arange(5)"
   ]
  },
  {
   "cell_type": "code",
   "execution_count": 8,
   "metadata": {},
   "outputs": [
    {
     "data": {
      "text/plain": [
       "array([0., 1., 2.])"
      ]
     },
     "execution_count": 8,
     "metadata": {},
     "output_type": "execute_result"
    }
   ],
   "source": [
    "np.arange(3.0)"
   ]
  },
  {
   "cell_type": "code",
   "execution_count": 9,
   "metadata": {},
   "outputs": [
    {
     "data": {
      "text/plain": [
       "array([10, 12, 14, 16, 18])"
      ]
     },
     "execution_count": 9,
     "metadata": {},
     "output_type": "execute_result"
    }
   ],
   "source": [
    "np.arange(10,20,2)"
   ]
  },
  {
   "cell_type": "code",
   "execution_count": 10,
   "metadata": {},
   "outputs": [
    {
     "data": {
      "text/plain": [
       "array([-1050, -1000,  -950,  -900,  -850,  -800,  -750,  -700,  -650,\n",
       "        -600,  -550,  -500,  -450,  -400,  -350,  -300,  -250,  -200,\n",
       "        -150,  -100,   -50,     0,    50,   100,   150,   200,   250,\n",
       "         300,   350,   400,   450,   500,   550,   600,   650,   700,\n",
       "         750,   800,   850,   900,   950,  1000])"
      ]
     },
     "execution_count": 10,
     "metadata": {},
     "output_type": "execute_result"
    }
   ],
   "source": [
    "np.arange(-1050,1050,50)"
   ]
  },
  {
   "cell_type": "code",
   "execution_count": 11,
   "metadata": {},
   "outputs": [
    {
     "data": {
      "text/plain": [
       "array([], dtype=int32)"
      ]
     },
     "execution_count": 11,
     "metadata": {},
     "output_type": "execute_result"
    }
   ],
   "source": [
    "np.arange(50,-50)\n",
    "# No data is given as the starting value is greater than the ending value"
   ]
  },
  {
   "cell_type": "code",
   "execution_count": 12,
   "metadata": {},
   "outputs": [
    {
     "data": {
      "text/plain": [
       "array([0, 0, 0, 0, 0])"
      ]
     },
     "execution_count": 12,
     "metadata": {},
     "output_type": "execute_result"
    }
   ],
   "source": [
    "np.zeros(5,dtype=int)"
   ]
  },
  {
   "cell_type": "code",
   "execution_count": 13,
   "metadata": {},
   "outputs": [
    {
     "data": {
      "text/plain": [
       "array([[0, 0, 0, 0, 0],\n",
       "       [0, 0, 0, 0, 0],\n",
       "       [0, 0, 0, 0, 0],\n",
       "       [0, 0, 0, 0, 0],\n",
       "       [0, 0, 0, 0, 0]])"
      ]
     },
     "execution_count": 13,
     "metadata": {},
     "output_type": "execute_result"
    }
   ],
   "source": [
    "np.zeros((5,5),dtype=int)"
   ]
  },
  {
   "cell_type": "code",
   "execution_count": 14,
   "metadata": {},
   "outputs": [
    {
     "data": {
      "text/plain": [
       "array([[1, 1, 1, 1, 1, 1, 1],\n",
       "       [1, 1, 1, 1, 1, 1, 1]])"
      ]
     },
     "execution_count": 14,
     "metadata": {},
     "output_type": "execute_result"
    }
   ],
   "source": [
    "np.ones((2,7),dtype=int)\n",
    "# (rows,columns)"
   ]
  },
  {
   "cell_type": "code",
   "execution_count": 15,
   "metadata": {},
   "outputs": [
    {
     "name": "stdout",
     "output_type": "stream",
     "text": [
      "[[1 1 1 1 1 1 1 1 1 1]\n",
      " [1 1 1 1 1 1 1 1 1 1]\n",
      " [1 1 1 1 1 1 1 1 1 1]\n",
      " [1 1 1 1 1 1 1 1 1 1]\n",
      " [1 1 1 1 1 1 1 1 1 1]]\n"
     ]
    }
   ],
   "source": [
    "n = (5,10)\n",
    "print(np.ones(n,dtype=int))\n",
    "# only zero and ones are printed"
   ]
  },
  {
   "cell_type": "code",
   "execution_count": 18,
   "metadata": {},
   "outputs": [],
   "source": [
    "del list\n",
    "# list is deleted"
   ]
  },
  {
   "cell_type": "code",
   "execution_count": 16,
   "metadata": {},
   "outputs": [
    {
     "data": {
      "text/plain": [
       "array([0, 1, 2, 3, 4])"
      ]
     },
     "execution_count": 16,
     "metadata": {},
     "output_type": "execute_result"
    }
   ],
   "source": [
    "from numpy import *\n",
    "arange(5)"
   ]
  },
  {
   "cell_type": "code",
   "execution_count": 19,
   "metadata": {},
   "outputs": [
    {
     "data": {
      "text/plain": [
       "[0, 1, 2, 3, 4, 5, 6, 7, 8, 9, 10, 11, 12, 13, 14, 15]"
      ]
     },
     "execution_count": 19,
     "metadata": {},
     "output_type": "execute_result"
    }
   ],
   "source": [
    "range(16)\n",
    "list(range(16))"
   ]
  },
  {
   "cell_type": "code",
   "execution_count": 20,
   "metadata": {},
   "outputs": [],
   "source": [
    "from numpy import random"
   ]
  },
  {
   "cell_type": "code",
   "execution_count": 21,
   "metadata": {},
   "outputs": [
    {
     "data": {
      "text/plain": [
       "array([[0.77248938, 0.53090083, 0.00845729, 0.94647171, 0.13493554],\n",
       "       [0.37676405, 0.19444112, 0.45889487, 0.98657455, 0.14550207],\n",
       "       [0.20664579, 0.20280356, 0.5828792 , 0.3378081 , 0.18601516],\n",
       "       [0.91799212, 0.50419302, 0.76534512, 0.80864497, 0.51500171],\n",
       "       [0.29086334, 0.13928471, 0.8602301 , 0.40336124, 0.87658889]])"
      ]
     },
     "execution_count": 21,
     "metadata": {},
     "output_type": "execute_result"
    }
   ],
   "source": [
    "random.rand(5,5)"
   ]
  },
  {
   "cell_type": "code",
   "execution_count": 22,
   "metadata": {},
   "outputs": [
    {
     "data": {
      "text/plain": [
       "array([1, 2, 1, 2, 2])"
      ]
     },
     "execution_count": 22,
     "metadata": {},
     "output_type": "execute_result"
    }
   ],
   "source": [
    "random.randint(1,3,5)"
   ]
  },
  {
   "cell_type": "code",
   "execution_count": 23,
   "metadata": {},
   "outputs": [
    {
     "data": {
      "text/plain": [
       "0"
      ]
     },
     "execution_count": 23,
     "metadata": {},
     "output_type": "execute_result"
    }
   ],
   "source": [
    "random.randint(1)"
   ]
  },
  {
   "cell_type": "code",
   "execution_count": 24,
   "metadata": {},
   "outputs": [
    {
     "data": {
      "text/plain": [
       "4"
      ]
     },
     "execution_count": 24,
     "metadata": {},
     "output_type": "execute_result"
    }
   ],
   "source": [
    "random.randint(4,8)\n",
    "# Gets a random number between 4 and 8"
   ]
  },
  {
   "cell_type": "code",
   "execution_count": 25,
   "metadata": {},
   "outputs": [
    {
     "data": {
      "text/plain": [
       "array([144, 113, 163, 141, 143])"
      ]
     },
     "execution_count": 25,
     "metadata": {},
     "output_type": "execute_result"
    }
   ],
   "source": [
    "random.randint(100,190,5)"
   ]
  },
  {
   "cell_type": "code",
   "execution_count": 26,
   "metadata": {},
   "outputs": [
    {
     "data": {
      "text/plain": [
       "array([[105, 104, 106, 103, 102, 103, 102, 103, 108, 100],\n",
       "       [104, 100, 107, 103, 108, 104, 101, 101, 107, 104],\n",
       "       [108, 109, 107, 103, 109, 102, 101, 104, 102, 104],\n",
       "       [109, 101, 102, 106, 101, 106, 104, 104, 109, 108],\n",
       "       [103, 103, 105, 106, 109, 100, 107, 108, 109, 109],\n",
       "       [107, 102, 106, 104, 109, 101, 102, 108, 108, 108],\n",
       "       [101, 102, 101, 102, 101, 108, 107, 107, 108, 109],\n",
       "       [106, 103, 107, 106, 105, 100, 105, 104, 105, 101],\n",
       "       [109, 101, 101, 106, 109, 105, 101, 101, 105, 108],\n",
       "       [106, 107, 107, 107, 101, 102, 104, 106, 109, 107]])"
      ]
     },
     "execution_count": 26,
     "metadata": {},
     "output_type": "execute_result"
    }
   ],
   "source": [
    "random.randint(100,110,(10,10))\n",
    "# 10 rows and 10 columns with random numbers between 100 and 110"
   ]
  },
  {
   "cell_type": "code",
   "execution_count": 27,
   "metadata": {},
   "outputs": [
    {
     "name": "stdout",
     "output_type": "stream",
     "text": [
      "[[9 9 7]\n",
      " [9 5 5]\n",
      " [7 5 8]\n",
      " [7 8 5]]\n"
     ]
    }
   ],
   "source": [
    "b = random.randint(5,10,(4,3))\n",
    "print(b)"
   ]
  },
  {
   "cell_type": "code",
   "execution_count": 28,
   "metadata": {},
   "outputs": [
    {
     "data": {
      "text/plain": [
       "array([[9, 9, 7],\n",
       "       [9, 5, 5],\n",
       "       [7, 5, 8],\n",
       "       [7, 8, 5]])"
      ]
     },
     "execution_count": 28,
     "metadata": {},
     "output_type": "execute_result"
    }
   ],
   "source": [
    "b[:]"
   ]
  },
  {
   "cell_type": "code",
   "execution_count": 29,
   "metadata": {},
   "outputs": [
    {
     "data": {
      "text/plain": [
       "array([[9, 9, 7],\n",
       "       [9, 5, 5]])"
      ]
     },
     "execution_count": 29,
     "metadata": {},
     "output_type": "execute_result"
    }
   ],
   "source": [
    "b[:2]"
   ]
  },
  {
   "cell_type": "code",
   "execution_count": 30,
   "metadata": {},
   "outputs": [
    {
     "data": {
      "text/plain": [
       "array([[9, 9, 7],\n",
       "       [9, 5, 5],\n",
       "       [7, 5, 8]])"
      ]
     },
     "execution_count": 30,
     "metadata": {},
     "output_type": "execute_result"
    }
   ],
   "source": [
    "b[0:-1]"
   ]
  },
  {
   "cell_type": "code",
   "execution_count": 31,
   "metadata": {},
   "outputs": [
    {
     "data": {
      "text/plain": [
       "7"
      ]
     },
     "execution_count": 31,
     "metadata": {},
     "output_type": "execute_result"
    }
   ],
   "source": [
    "b[0,2]"
   ]
  },
  {
   "cell_type": "code",
   "execution_count": null,
   "metadata": {},
   "outputs": [
    {
     "data": {
      "text/plain": [
       "array([9, 9])"
      ]
     },
     "metadata": {},
     "output_type": "display_data"
    }
   ],
   "source": [
    "b[0,0:2]"
   ]
  },
  {
   "cell_type": "markdown",
   "metadata": {},
   "source": [
    "Operations"
   ]
  },
  {
   "cell_type": "code",
   "execution_count": 33,
   "metadata": {},
   "outputs": [
    {
     "name": "stdout",
     "output_type": "stream",
     "text": [
      "[33 13 38 38 37]\n"
     ]
    }
   ],
   "source": [
    "a = random.randint(10,40,5)\n",
    "print(a)"
   ]
  },
  {
   "cell_type": "code",
   "execution_count": 34,
   "metadata": {},
   "outputs": [
    {
     "name": "stdout",
     "output_type": "stream",
     "text": [
      "[[35 86 99 34 76 67 19  6 97 86]\n",
      " [ 7 86  9 75 67 23 23 85 77  8]\n",
      " [69 98 52 22  5 45 60  4 34 32]\n",
      " [90 34 86  3 37 13 82 65 37 61]\n",
      " [58  6 15 58 92 44 30 71 60  0]\n",
      " [28 63 94 56 91 44 35 15 29  8]\n",
      " [30 76 21 45 96 37 32 99 32 62]\n",
      " [26 62 16 32 69 87 82 55 99 96]\n",
      " [26 83 32 64 35 46 13 17 77  9]\n",
      " [20 49 38 72 70 86  5 64 21 39]]\n"
     ]
    }
   ],
   "source": [
    "arr2 = random.randint(0,100,(10,10))\n",
    "print(arr2)"
   ]
  },
  {
   "cell_type": "code",
   "execution_count": 35,
   "metadata": {},
   "outputs": [
    {
     "data": {
      "text/plain": [
       "array([[35, 86, 99, 34, 76, 67, 19,  6, 97, 86],\n",
       "       [ 7, 86,  9, 75, 67, 23, 23, 85, 77,  8],\n",
       "       [69, 98, 52, 22,  5, 45, 60,  4, 34, 32],\n",
       "       [90, 34, 86,  3, 37, 13, 82, 65, 37, 61],\n",
       "       [58,  6, 15, 58, 92, 44, 30, 71, 60,  0],\n",
       "       [28, 63, 94, 56, 91, 44, 35, 15, 29,  8],\n",
       "       [30, 76, 21, 45, 96, 37, 32, 99, 32, 62],\n",
       "       [26, 62, 16, 32, 69, 87, 82, 55, 99, 96],\n",
       "       [26, 83, 32, 64, 35, 46, 13, 17, 77,  9],\n",
       "       [20, 49, 38, 72, 70, 86,  5, 64, 21, 39]])"
      ]
     },
     "execution_count": 35,
     "metadata": {},
     "output_type": "execute_result"
    }
   ],
   "source": [
    "arr2[:]"
   ]
  },
  {
   "cell_type": "code",
   "execution_count": 36,
   "metadata": {},
   "outputs": [
    {
     "data": {
      "text/plain": [
       "array([[35, 86, 99],\n",
       "       [ 7, 86,  9],\n",
       "       [69, 98, 52]])"
      ]
     },
     "execution_count": 36,
     "metadata": {},
     "output_type": "execute_result"
    }
   ],
   "source": [
    "arr2[0:3,0:3]\n",
    "# Selected rows and columns"
   ]
  },
  {
   "cell_type": "code",
   "execution_count": 38,
   "metadata": {},
   "outputs": [
    {
     "data": {
      "text/plain": [
       "30"
      ]
     },
     "execution_count": 38,
     "metadata": {},
     "output_type": "execute_result"
    }
   ],
   "source": [
    "arr2[4,6]"
   ]
  },
  {
   "cell_type": "code",
   "execution_count": 39,
   "metadata": {},
   "outputs": [
    {
     "data": {
      "text/plain": [
       "39"
      ]
     },
     "execution_count": 39,
     "metadata": {},
     "output_type": "execute_result"
    }
   ],
   "source": [
    "arr2[-1,-1]"
   ]
  },
  {
   "cell_type": "code",
   "execution_count": 40,
   "metadata": {},
   "outputs": [
    {
     "data": {
      "text/plain": [
       "array([28, 63, 94, 56, 91, 44, 35, 15, 29,  8])"
      ]
     },
     "execution_count": 40,
     "metadata": {},
     "output_type": "execute_result"
    }
   ],
   "source": [
    "arr2[-5]"
   ]
  },
  {
   "cell_type": "code",
   "execution_count": 41,
   "metadata": {},
   "outputs": [
    {
     "data": {
      "text/plain": [
       "array([[20, 49, 38, 72, 70, 86,  5, 64, 21, 39],\n",
       "       [26, 83, 32, 64, 35, 46, 13, 17, 77,  9],\n",
       "       [26, 62, 16, 32, 69, 87, 82, 55, 99, 96],\n",
       "       [30, 76, 21, 45, 96, 37, 32, 99, 32, 62],\n",
       "       [28, 63, 94, 56, 91, 44, 35, 15, 29,  8],\n",
       "       [58,  6, 15, 58, 92, 44, 30, 71, 60,  0],\n",
       "       [90, 34, 86,  3, 37, 13, 82, 65, 37, 61],\n",
       "       [69, 98, 52, 22,  5, 45, 60,  4, 34, 32],\n",
       "       [ 7, 86,  9, 75, 67, 23, 23, 85, 77,  8],\n",
       "       [35, 86, 99, 34, 76, 67, 19,  6, 97, 86]])"
      ]
     },
     "execution_count": 41,
     "metadata": {},
     "output_type": "execute_result"
    }
   ],
   "source": [
    "arr2[::-1]\n",
    "# Reverse the array"
   ]
  },
  {
   "cell_type": "code",
   "execution_count": 42,
   "metadata": {},
   "outputs": [
    {
     "data": {
      "text/plain": [
       "array([[39, 21, 64,  5, 86, 70, 72, 38, 49, 20],\n",
       "       [ 9, 77, 17, 13, 46, 35, 64, 32, 83, 26],\n",
       "       [96, 99, 55, 82, 87, 69, 32, 16, 62, 26],\n",
       "       [62, 32, 99, 32, 37, 96, 45, 21, 76, 30],\n",
       "       [ 8, 29, 15, 35, 44, 91, 56, 94, 63, 28],\n",
       "       [ 0, 60, 71, 30, 44, 92, 58, 15,  6, 58],\n",
       "       [61, 37, 65, 82, 13, 37,  3, 86, 34, 90],\n",
       "       [32, 34,  4, 60, 45,  5, 22, 52, 98, 69],\n",
       "       [ 8, 77, 85, 23, 23, 67, 75,  9, 86,  7],\n",
       "       [86, 97,  6, 19, 67, 76, 34, 99, 86, 35]])"
      ]
     },
     "execution_count": 42,
     "metadata": {},
     "output_type": "execute_result"
    }
   ],
   "source": [
    "arr2[::-1,::-1]\n"
   ]
  },
  {
   "cell_type": "code",
   "execution_count": 43,
   "metadata": {},
   "outputs": [
    {
     "data": {
      "text/plain": [
       "(10, 10)"
      ]
     },
     "execution_count": 43,
     "metadata": {},
     "output_type": "execute_result"
    }
   ],
   "source": [
    "arr2.shape"
   ]
  },
  {
   "cell_type": "code",
   "execution_count": 44,
   "metadata": {},
   "outputs": [
    {
     "data": {
      "text/plain": [
       "99"
      ]
     },
     "execution_count": 44,
     "metadata": {},
     "output_type": "execute_result"
    }
   ],
   "source": [
    "arr2.max()"
   ]
  },
  {
   "cell_type": "code",
   "execution_count": 45,
   "metadata": {},
   "outputs": [
    {
     "name": "stdout",
     "output_type": "stream",
     "text": [
      "0\n",
      "99\n",
      "4911\n",
      "49.11\n",
      "29.37069798285359\n",
      "862.6379\n"
     ]
    }
   ],
   "source": [
    "print(arr2.min())\n",
    "print(arr2.max())\n",
    "print(arr2.sum())\n",
    "print(arr2.mean())\n",
    "print(arr2.std())\n",
    "print(arr2.var())"
   ]
  },
  {
   "cell_type": "code",
   "execution_count": 47,
   "metadata": {},
   "outputs": [
    {
     "data": {
      "text/plain": [
       "array([[35, 86, 99, 34, 76, 67, 19,  6, 97, 86,  7, 86,  9, 75, 67, 23,\n",
       "        23, 85, 77,  8, 69, 98, 52, 22,  5],\n",
       "       [45, 60,  4, 34, 32, 90, 34, 86,  3, 37, 13, 82, 65, 37, 61, 58,\n",
       "         6, 15, 58, 92, 44, 30, 71, 60,  0],\n",
       "       [28, 63, 94, 56, 91, 44, 35, 15, 29,  8, 30, 76, 21, 45, 96, 37,\n",
       "        32, 99, 32, 62, 26, 62, 16, 32, 69],\n",
       "       [87, 82, 55, 99, 96, 26, 83, 32, 64, 35, 46, 13, 17, 77,  9, 20,\n",
       "        49, 38, 72, 70, 86,  5, 64, 21, 39]])"
      ]
     },
     "execution_count": 47,
     "metadata": {},
     "output_type": "execute_result"
    }
   ],
   "source": [
    "arr2.reshape(4,25)\n",
    "# Can only be reshaped with same number of elements"
   ]
  },
  {
   "cell_type": "markdown",
   "metadata": {},
   "source": [
    "Indexing"
   ]
  },
  {
   "cell_type": "code",
   "execution_count": 48,
   "metadata": {},
   "outputs": [
    {
     "name": "stdout",
     "output_type": "stream",
     "text": [
      "[[ 0  1  2  3  4  5  6  7  8  9]\n",
      " [10 11 12 13 14 15 16 17 18 19]\n",
      " [20 21 22 23 24 25 26 27 28 29]\n",
      " [30 31 32 33 34 35 36 37 38 39]\n",
      " [40 41 42 43 44 45 46 47 48 49]\n",
      " [50 51 52 53 54 55 56 57 58 59]\n",
      " [60 61 62 63 64 65 66 67 68 69]\n",
      " [70 71 72 73 74 75 76 77 78 79]\n",
      " [80 81 82 83 84 85 86 87 88 89]\n",
      " [90 91 92 93 94 95 96 97 98 99]]\n"
     ]
    }
   ],
   "source": [
    "mat = np.arange(0,100).reshape(10,10)\n",
    "\n",
    "print(mat)"
   ]
  },
  {
   "cell_type": "code",
   "execution_count": 49,
   "metadata": {},
   "outputs": [
    {
     "data": {
      "text/plain": [
       "55"
      ]
     },
     "execution_count": 49,
     "metadata": {},
     "output_type": "execute_result"
    }
   ],
   "source": [
    "x = 5\n",
    "y = 5\n",
    "mat[x,y]"
   ]
  },
  {
   "cell_type": "code",
   "execution_count": 50,
   "metadata": {},
   "outputs": [
    {
     "data": {
      "text/plain": [
       "array([ 5, 15, 25, 35, 45, 55, 65, 75, 85, 95])"
      ]
     },
     "execution_count": 50,
     "metadata": {},
     "output_type": "execute_result"
    }
   ],
   "source": [
    "mat[:,y]"
   ]
  },
  {
   "cell_type": "code",
   "execution_count": 51,
   "metadata": {},
   "outputs": [
    {
     "data": {
      "text/plain": [
       "array([[50, 51, 52, 53, 54, 55, 56, 57, 58, 59],\n",
       "       [60, 61, 62, 63, 64, 65, 66, 67, 68, 69],\n",
       "       [70, 71, 72, 73, 74, 75, 76, 77, 78, 79],\n",
       "       [80, 81, 82, 83, 84, 85, 86, 87, 88, 89]])"
      ]
     },
     "execution_count": 51,
     "metadata": {},
     "output_type": "execute_result"
    }
   ],
   "source": [
    "mat[x:9]"
   ]
  },
  {
   "cell_type": "code",
   "execution_count": 52,
   "metadata": {},
   "outputs": [
    {
     "data": {
      "text/plain": [
       "array([ 4, 14, 24, 34, 44, 54, 64, 74, 84, 94])"
      ]
     },
     "execution_count": 52,
     "metadata": {},
     "output_type": "execute_result"
    }
   ],
   "source": [
    "mat[:,4]"
   ]
  },
  {
   "cell_type": "code",
   "execution_count": 53,
   "metadata": {},
   "outputs": [
    {
     "data": {
      "text/plain": [
       "array([24, 34, 44, 54, 64, 74, 84, 94])"
      ]
     },
     "execution_count": 53,
     "metadata": {},
     "output_type": "execute_result"
    }
   ],
   "source": [
    "mat[2:,4]"
   ]
  },
  {
   "cell_type": "markdown",
   "metadata": {},
   "source": [
    "Masking"
   ]
  },
  {
   "cell_type": "code",
   "execution_count": 54,
   "metadata": {},
   "outputs": [
    {
     "data": {
      "text/plain": [
       "2363476961456"
      ]
     },
     "execution_count": 54,
     "metadata": {},
     "output_type": "execute_result"
    }
   ],
   "source": [
    "id(mat)"
   ]
  },
  {
   "cell_type": "code",
   "execution_count": 55,
   "metadata": {},
   "outputs": [
    {
     "data": {
      "text/plain": [
       "array([[ True,  True,  True,  True,  True,  True,  True,  True,  True,\n",
       "         True],\n",
       "       [ True,  True,  True,  True,  True,  True,  True,  True,  True,\n",
       "         True],\n",
       "       [ True,  True,  True,  True,  True,  True,  True,  True,  True,\n",
       "         True],\n",
       "       [False, False, False, False, False, False, False, False, False,\n",
       "        False],\n",
       "       [False, False, False, False, False, False, False, False, False,\n",
       "        False],\n",
       "       [False, False, False, False, False, False, False, False, False,\n",
       "        False],\n",
       "       [False, False, False, False, False, False, False, False, False,\n",
       "        False],\n",
       "       [False, False, False, False, False, False, False, False, False,\n",
       "        False],\n",
       "       [False, False, False, False, False, False, False, False, False,\n",
       "        False],\n",
       "       [False, False, False, False, False, False, False, False, False,\n",
       "        False]])"
      ]
     },
     "execution_count": 55,
     "metadata": {},
     "output_type": "execute_result"
    }
   ],
   "source": [
    "mat < 30"
   ]
  },
  {
   "cell_type": "code",
   "execution_count": 56,
   "metadata": {},
   "outputs": [],
   "source": [
    "mat2 = random.randint(0,100,100).reshape(10,10)"
   ]
  },
  {
   "cell_type": "code",
   "execution_count": 57,
   "metadata": {},
   "outputs": [
    {
     "data": {
      "text/plain": [
       "array([[84, 17, 11, 44,  4, 43, 18, 40, 94, 67],\n",
       "       [20, 21, 86, 28, 31, 50, 35, 16, 31, 52],\n",
       "       [33, 62, 81, 62, 23, 82, 76, 38, 99,  7],\n",
       "       [45, 23, 16,  8, 15, 68, 62, 31, 76,  0],\n",
       "       [26, 53, 61, 12, 27, 95, 95, 31, 77, 14],\n",
       "       [47, 24, 68, 68,  6, 76, 96, 43, 20, 69],\n",
       "       [66, 82, 10, 80, 43, 77, 11, 73, 14, 17],\n",
       "       [86,  9,  7, 19, 41, 91, 24, 58, 30, 69],\n",
       "       [ 3, 54, 62, 87, 17, 77, 69, 96, 39, 75],\n",
       "       [69, 47, 37, 27, 63, 19, 68, 66,  6, 48]])"
      ]
     },
     "execution_count": 57,
     "metadata": {},
     "output_type": "execute_result"
    }
   ],
   "source": [
    "mat2"
   ]
  },
  {
   "cell_type": "code",
   "execution_count": 58,
   "metadata": {},
   "outputs": [
    {
     "data": {
      "text/plain": [
       "array([[ True, False, False, False, False, False, False, False,  True,\n",
       "         True],\n",
       "       [False, False,  True, False, False, False, False, False, False,\n",
       "         True],\n",
       "       [False,  True,  True,  True, False,  True,  True, False,  True,\n",
       "        False],\n",
       "       [False, False, False, False, False,  True,  True, False,  True,\n",
       "        False],\n",
       "       [False,  True,  True, False, False,  True,  True, False,  True,\n",
       "        False],\n",
       "       [False, False,  True,  True, False,  True,  True, False, False,\n",
       "         True],\n",
       "       [ True,  True, False,  True, False,  True, False,  True, False,\n",
       "        False],\n",
       "       [ True, False, False, False, False,  True, False,  True, False,\n",
       "         True],\n",
       "       [False,  True,  True,  True, False,  True,  True,  True, False,\n",
       "         True],\n",
       "       [ True, False, False, False,  True, False,  True,  True, False,\n",
       "        False]])"
      ]
     },
     "execution_count": 58,
     "metadata": {},
     "output_type": "execute_result"
    }
   ],
   "source": [
    "mat2 > 50"
   ]
  },
  {
   "cell_type": "code",
   "execution_count": 59,
   "metadata": {},
   "outputs": [
    {
     "data": {
      "text/plain": [
       "array([6, 6])"
      ]
     },
     "execution_count": 59,
     "metadata": {},
     "output_type": "execute_result"
    }
   ],
   "source": [
    "mat2[mat2==6]"
   ]
  },
  {
   "cell_type": "code",
   "execution_count": 60,
   "metadata": {},
   "outputs": [
    {
     "data": {
      "text/plain": [
       "array([68, 68, 68, 68])"
      ]
     },
     "execution_count": 60,
     "metadata": {},
     "output_type": "execute_result"
    }
   ],
   "source": [
    "mat2[mat2==68]"
   ]
  },
  {
   "cell_type": "code",
   "execution_count": 62,
   "metadata": {},
   "outputs": [
    {
     "data": {
      "text/plain": [
       "array([17, 11,  4, 18, 16,  7, 16,  8, 15,  0, 12, 14,  6, 10, 11, 14, 17,\n",
       "        9,  7, 19,  3, 17, 19,  6])"
      ]
     },
     "execution_count": 62,
     "metadata": {},
     "output_type": "execute_result"
    }
   ],
   "source": [
    "c = mat2[mat2<20]\n",
    "c"
   ]
  }
 ],
 "metadata": {
  "kernelspec": {
   "display_name": "base",
   "language": "python",
   "name": "python3"
  },
  "language_info": {
   "codemirror_mode": {
    "name": "ipython",
    "version": 3
   },
   "file_extension": ".py",
   "mimetype": "text/x-python",
   "name": "python",
   "nbconvert_exporter": "python",
   "pygments_lexer": "ipython3",
   "version": "3.12.4"
  }
 },
 "nbformat": 4,
 "nbformat_minor": 2
}
